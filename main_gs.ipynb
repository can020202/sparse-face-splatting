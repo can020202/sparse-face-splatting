{
 "cells": [
  {
   "cell_type": "code",
   "id": "initial_id",
   "metadata": {
    "collapsed": true,
    "ExecuteTime": {
     "end_time": "2025-06-11T07:42:47.976386Z",
     "start_time": "2025-06-11T07:42:47.969787Z"
    }
   },
   "source": [
    "import torch\n",
    "import wandb\n",
    "import os\n",
    "\n",
    "\n",
    "# Check if CUDA is available\n",
    "cuda_available = torch.cuda.is_available()\n",
    "print(f\"CUDA available: {cuda_available}\")"
   ],
   "outputs": [],
   "execution_count": 16
  },
  {
   "metadata": {},
   "cell_type": "code",
   "source": "wandb.login()",
   "id": "94b45c7a416d445d",
   "outputs": [],
   "execution_count": null
  },
  {
   "metadata": {},
   "cell_type": "markdown",
   "source": "## Gaussian Splatting without Camera Parameter Calibration Images",
   "id": "2d982cec90f39844"
  },
  {
   "metadata": {
    "ExecuteTime": {
     "end_time": "2025-06-11T07:42:48.886384Z",
     "start_time": "2025-06-11T07:42:48.881972Z"
    }
   },
   "cell_type": "code",
   "source": [
    "name_dir_data = \"cam_params_big_brett\"\n",
    "val_pic_list = [\"val.jpg\"]"
   ],
   "id": "aec2af253bdbb9a3",
   "outputs": [],
   "execution_count": 18
  },
  {
   "metadata": {
    "ExecuteTime": {
     "end_time": "2025-06-11T07:42:49.305573Z",
     "start_time": "2025-06-11T07:42:49.300004Z"
    }
   },
   "cell_type": "code",
   "source": [
    "iterations = 19050\n",
    "eval_interval  = 50\n",
    "sh_degree = 3\n",
    "percent_dense = 0.005\n",
    "densification_interval = 150\n",
    "densify_from_iter = 50\n",
    "densify_until_iter = 25000\n",
    "densify_grad_threshold = 0.001\n",
    "lambda_dssim  = 0.5"
   ],
   "id": "6bcf680b7da12f52",
   "outputs": [],
   "execution_count": 19
  },
  {
   "metadata": {},
   "cell_type": "code",
   "source": [
    "#W&B\n",
    "wandb.init(\n",
    "    project=\"gaussian-splatting\",\n",
    "    name=\"test\",\n",
    "    config={\n",
    "        \"name\": \"test\",\n",
    "    }\n",
    ")\n",
    "config = wandb.config\n"
   ],
   "id": "2d05c98345d23c2f",
   "outputs": [],
   "execution_count": null
  },
  {
   "metadata": {
    "ExecuteTime": {
     "end_time": "2025-06-11T07:42:51.820967Z",
     "start_time": "2025-06-11T07:42:51.816597Z"
    }
   },
   "cell_type": "code",
   "source": [
    "source_path = f\"data/{name_dir_data}\"\n",
    "val_path_np    = os.path.join(source_path, \"sparse\", \"0\")\n",
    "model_path_wo_p = f\"outputs/{name_dir_data}_model\"\n",
    "valfilenames_str = \" \".join(val_pic_list)\n",
    "\n",
    "test_iterations = list(range(eval_interval, iterations+1, eval_interval))\n",
    "\n",
    "if test_iterations[-1] != iterations:\n",
    "    test_iterations.append(iterations)\n",
    "\n",
    "test_iters_str = \" \".join(str(i) for i in test_iterations)"
   ],
   "id": "e24f5dda4e579ccb",
   "outputs": [],
   "execution_count": 21
  },
  {
   "metadata": {},
   "cell_type": "code",
   "source": [
    "!python utils/make_val_file.py $val_path_np {valfilenames_str}\n",
    "!python utils/sfm.py --source_path {source_path}\n",
    "\n",
    "%run train.py --source_path $source_path --model_path $model_path_wo_p --iterations $iterations --sh_degree $sh_degree --percent_dense $percent_dense --densification_interval $densification_interval --densify_from_iter $densify_from_iter --densify_until_iter $densify_until_iter --densify_grad_threshold $densify_grad_threshold --lambda_dssim $lambda_dssim --disable_viewer --eval --test_iterations $test_iters_str"
   ],
   "id": "c0dbab5a16ada3d6",
   "outputs": [],
   "execution_count": null
  },
  {
   "metadata": {},
   "cell_type": "code",
   "source": [
    "\n",
    "%run utils/render.py --source_path $source_path --model_path $model_path_wo_p --resolution 1080 --iteration $iterations\n"
   ],
   "id": "bc019cccb679875",
   "outputs": [],
   "execution_count": null
  },
  {
   "metadata": {},
   "cell_type": "code",
   "source": "%run utils/render_new_cams.py --model_path $model_path_wo_p --iters $iterations --scale 1.0 --steps 5",
   "id": "d2590129241f6e4f",
   "outputs": [],
   "execution_count": null
  },
  {
   "metadata": {},
   "cell_type": "markdown",
   "source": "## Gaussian Splatting with Camera Parameter Calibration Images",
   "id": "b8d34b71c096db1e"
  },
  {
   "metadata": {
    "ExecuteTime": {
     "end_time": "2025-06-09T12:11:36.204003Z",
     "start_time": "2025-06-09T12:11:36.200806Z"
    }
   },
   "cell_type": "code",
   "source": [
    "input_path_params_dir = \"cam_params_big_brett\"\n",
    "name_dir_data = \"moritz_without_brett\"\n",
    "val_pic_list = [\"val.jpg\"]\n"
   ],
   "id": "78de048d34b60a18",
   "outputs": [],
   "execution_count": 59
  },
  {
   "metadata": {
    "ExecuteTime": {
     "end_time": "2025-06-09T12:11:36.211041Z",
     "start_time": "2025-06-09T12:11:36.205014Z"
    }
   },
   "cell_type": "code",
   "source": [
    "iterations = 1100\n",
    "eval_interval  = 50\n",
    "sh_degree = 4\n",
    "percent_dense = 0.0050288222595324388\n",
    "densification_interval = 95\n",
    "densify_from_iter = 150\n",
    "densify_until_iter = 1000\n",
    "densify_grad_threshold = 0.00095380906898316\n",
    "lambda_dssim  = 0.21222436138314285\n",
    "depth_l1_weight_final = 1.9585141792568015\n",
    "depth_l1_weight_init = 0.10818129865381582"
   ],
   "id": "56e79f8ca7d47f4c",
   "outputs": [],
   "execution_count": 60
  },
  {
   "metadata": {},
   "cell_type": "code",
   "source": [
    "\n",
    "wandb.init(\n",
    "    project=\"gaussian-splatting\",\n",
    "    name=\"moritz_final\",\n",
    "    config={\n",
    "        \"name\": \"moritz_final\",\n",
    "    }\n",
    ")\n",
    "config = wandb.config\n"
   ],
   "id": "11ec5c4fbfa63223",
   "outputs": [],
   "execution_count": null
  },
  {
   "metadata": {
    "ExecuteTime": {
     "end_time": "2025-06-09T12:11:37.172926Z",
     "start_time": "2025-06-09T12:11:37.166563Z"
    }
   },
   "cell_type": "code",
   "source": [
    "\n",
    "\n",
    "data_dir = \"data\"\n",
    "\n",
    "source_path_params     = os.path.join(data_dir, input_path_params_dir)\n",
    "input_path_params      = os.path.join(source_path_params, \"distorted\", \"sparse\", \"0\")\n",
    "source_path_w_p        = os.path.join(data_dir, name_dir_data)\n",
    "val_path               = os.path.join(source_path_w_p, \"sparse\", \"0\")\n",
    "output_path_txt        = os.path.join(source_path_w_p, \"model_txt\")\n",
    "outputs_dir            = \"outputs\"\n",
    "model_path_w_p         = os.path.join(outputs_dir, f\"{name_dir_data}_model\")\n",
    "txt_path               = os.path.join(output_path_txt, \"images.txt\")\n",
    "\n",
    "os.makedirs(output_path_txt, exist_ok=True)\n",
    "\n",
    "valfilenames_str = \" \".join(val_pic_list)\n",
    "\n",
    "depth_dir = os.path.join(source_path_w_p, \"depth\")"
   ],
   "id": "92c1ed11f755c92a",
   "outputs": [],
   "execution_count": 62
  },
  {
   "metadata": {},
   "cell_type": "code",
   "source": [
    "!python utils/make_val_file.py $val_path {valfilenames_str}\n",
    "\n",
    "!python utils/sfm.py --source_path {source_path_params}\n",
    "\n",
    "!python utils/bin_to_txt.py -i {input_path_params} -o {output_path_txt}\n",
    "\n",
    "!python utils/update_images_txt.py --original {txt_path} --output {txt_path}    \n",
    "\n",
    "%run utils/sfm_with_params.py --source_path $source_path_w_p\n",
    "%env TORCHDYNAMO_DISABLE=1\n",
    "\n",
    "test_iterations = list(range(eval_interval, iterations+1, eval_interval))\n",
    "\n",
    "if test_iterations[-1] != iterations:\n",
    "    test_iterations.append(iterations)\n",
    "\n",
    "test_iters_str = \" \".join(str(i) for i in test_iterations)\n",
    "\n",
    "%run utils/make_depth_scale.py --base_dir $source_path_w_p --depths_dir $depth_dir\n",
    "\n",
    "%run train.py --source_path $source_path_w_p --model_path $model_path_w_p --iterations $iterations --sh_degree $sh_degree --percent_dense $percent_dense --densification_interval $densification_interval --densify_from_iter $densify_from_iter --densify_until_iter $densify_until_iter --densify_grad_threshold $densify_grad_threshold --lambda_dssim $lambda_dssim --disable_viewer --eval --test_iterations $test_iters_str --depths depth --mask_folder \"segmantation\" --antialiasing --white_background --depth_l1_weight_final $depth_l1_weight_final --depth_l1_weight_init $depth_l1_weight_init "
   ],
   "id": "50d70d34dd902da6",
   "outputs": [],
   "execution_count": null
  },
  {
   "metadata": {},
   "cell_type": "code",
   "source": "%run utils/render.py --source_path $source_path_w_p --model_path $model_path_w_p --resolution 1080 --iteration $iterations --antialiasing",
   "id": "326741f71f7273f6",
   "outputs": [],
   "execution_count": null
  },
  {
   "metadata": {},
   "cell_type": "markdown",
   "source": "",
   "id": "4565e635b6ef71e9"
  },
  {
   "metadata": {
    "ExecuteTime": {
     "end_time": "2025-06-09T12:15:12.370634Z",
     "start_time": "2025-06-09T12:14:27.751657Z"
    }
   },
   "cell_type": "code",
   "source": "%run utils/render_new_cams.py --model_path $model_path_w_p --iters $iterations --scale 1.0 --steps 20 --antialiasing",
   "id": "146e9fa5b1c04fb6",
   "outputs": [],
   "execution_count": 65
  },
  {
   "metadata": {},
   "cell_type": "code",
   "source": "",
   "id": "86bbc4623fc620a6",
   "outputs": [],
   "execution_count": null
  },
  {
   "metadata": {},
   "cell_type": "code",
   "outputs": [],
   "execution_count": null,
   "source": "",
   "id": "d3c191c5921dab68"
  }
 ],
 "metadata": {
  "kernelspec": {
   "display_name": "Python 3",
   "language": "python",
   "name": "python3"
  },
  "language_info": {
   "codemirror_mode": {
    "name": "ipython",
    "version": 2
   },
   "file_extension": ".py",
   "mimetype": "text/x-python",
   "name": "python",
   "nbconvert_exporter": "python",
   "pygments_lexer": "ipython2",
   "version": "2.7.6"
  }
 },
 "nbformat": 4,
 "nbformat_minor": 5
}
